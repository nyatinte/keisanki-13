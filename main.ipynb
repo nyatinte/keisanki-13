{
 "cells": [
  {
   "cell_type": "code",
   "execution_count": 16,
   "metadata": {},
   "outputs": [],
   "source": [
    "import binascii\n",
    "import chardet"
   ]
  },
  {
   "cell_type": "code",
   "execution_count": 17,
   "metadata": {},
   "outputs": [
    {
     "name": "stdout",
     "output_type": "stream",
     "text": [
      ".jpg\n",
      "------------------------------\n",
      "\t16進数: ffd8ffed002c5068\n",
      "\tASCII: яШян\u0000,Ph\n",
      "\n",
      ".pdf\n",
      "------------------------------\n",
      "\t16進数: 255044462d312e34\n",
      "\tASCII: %PDF-1.4\n",
      "\n",
      ".exe\n",
      "------------------------------\n",
      "\t16進数: 4d5a900003000000\n",
      "\tASCII: MZê\u0000\u0003\u0000\u0000\u0000\n",
      "\n"
     ]
    }
   ],
   "source": [
    "def show_file_head(filepath: str, label: str, head: int = 8) -> None:\n",
    "    print(f'{label}\\n{\"-\"*30}')\n",
    "    with open(filepath, \"rb\") as f:\n",
    "        data = f.read(head)\n",
    "        print(f'\\t16進数: {binascii.hexlify(data).decode(\"utf-8\")}')\n",
    "        detector = chardet.detect(data)\n",
    "        print(f'\\tASCII: {data.decode(detector[\"encoding\"])}')\n",
    "    print()\n",
    "\n",
    "\n",
    "fn_label = [\n",
    "    (\"jpg.jpg\", \".jpg\"),\n",
    "    (\"hoge.pdf\", \".pdf\"),\n",
    "    (\"bitmap.exe\", \".exe\"),\n",
    "]\n",
    "\n",
    "for fn, label in fn_label:\n",
    "    show_file_head(fn, label)"
   ]
  },
  {
   "attachments": {},
   "cell_type": "markdown",
   "metadata": {},
   "source": [
    "ファイルごとの共通点はない？"
   ]
  }
 ],
 "metadata": {
  "kernelspec": {
   "display_name": "Python 3",
   "language": "python",
   "name": "python3"
  },
  "language_info": {
   "codemirror_mode": {
    "name": "ipython",
    "version": 3
   },
   "file_extension": ".py",
   "mimetype": "text/x-python",
   "name": "python",
   "nbconvert_exporter": "python",
   "pygments_lexer": "ipython3",
   "version": "3.9.7"
  },
  "orig_nbformat": 4,
  "vscode": {
   "interpreter": {
    "hash": "db604185a858e21c0c77deaf93555b7f68c26ac13383f181ba36be5217514d16"
   }
  }
 },
 "nbformat": 4,
 "nbformat_minor": 2
}
